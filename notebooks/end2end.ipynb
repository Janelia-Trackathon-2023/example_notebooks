{
 "cells": [
  {
   "cell_type": "code",
   "execution_count": 1,
   "id": "92c3cb51-8f2d-4bae-b023-84ff6a6deb7c",
   "metadata": {
    "tags": []
   },
   "outputs": [],
   "source": [
    "%reload_ext autoreload\n",
    "%autoreload 1"
   ]
  },
  {
   "cell_type": "markdown",
   "id": "a0c493b8-07ad-4928-8c71-cb11b5912005",
   "metadata": {},
   "source": [
    "# End-to-End example on a Cell Tracking Challenge Dataset\n",
    "\n",
    "Preparation: \n",
    "- Create an environment, install motile and napari: \n",
    "```\n",
    "conda create -n trackathon -c conda-forge -c funkelab -c gurobi ilpy napari\n",
    "conda activate trackathon\n",
    "pip install motile\n",
    "```\n",
    "\n",
    "- Clone and install the ctctools (as editable)\n",
    "```\n",
    "git clone ...\n",
    "cd ctc-tools\n",
    "# git switch trackathon\n",
    "# pip install -e .\n",
    "# - Create a folder called \"data\" in working directory\n",
    "```"
   ]
  },
  {
   "cell_type": "code",
   "execution_count": 11,
   "id": "40619257",
   "metadata": {
    "tags": []
   },
   "outputs": [],
   "source": [
    "import napari\n",
    "import urllib.request\n",
    "import zipfile\n",
    "from tqdm import tqdm\n",
    "from scipy.spatial.distance import cdist\n",
    "import itertools\n",
    "from pathlib import Path\n",
    "import networkx as nx\n",
    "import motile\n",
    "from motile.costs import NodeSelection, EdgeSelection, Appear\n",
    "from motile.constraints import MaxParents, MaxChildren\n",
    "from motile.variables import NodeSelected, EdgeSelected\n",
    "import numpy as np\n",
    "import pandas as pd"
   ]
  },
  {
   "cell_type": "markdown",
   "id": "e5646f62-432a-4f09-99f1-13b06c884a83",
   "metadata": {},
   "source": [
    "## PART 1: Get some data\n",
    "\n",
    "We will download the hamster ovaries dataset from the Cell Tracking Challenge. It is a 3D dataset, but small enough to run quickly and cleanly on most laptops."
   ]
  },
  {
   "cell_type": "code",
   "execution_count": 12,
   "id": "369f20f5",
   "metadata": {
    "lines_to_next_cell": 1,
    "tags": []
   },
   "outputs": [],
   "source": [
    "# Add a utility to make a progress bar when downloading the file\n",
    "url = \"http://data.celltrackingchallenge.net/training-datasets/Fluo-N3DH-CHO.zip\"\n",
    "base_dir = Path(\"data\")\n",
    "filename = url.split('/')[-1]\n",
    "ds_name = filename.split('.')[0]\n",
    "class DownloadProgressBar(tqdm):\n",
    "    def update_to(self, b=1, bsize=1, tsize=None):\n",
    "        if tsize is not None:\n",
    "            self.total = tsize\n",
    "        self.update(b * bsize - self.n)"
   ]
  },
  {
   "cell_type": "code",
   "execution_count": 13,
   "id": "4e4cbbf2",
   "metadata": {
    "tags": []
   },
   "outputs": [],
   "source": [
    "if not base_dir.exists():\n",
    "    base_dir.mkdir(parents=True)\n",
    "if not (base_dir / filename).exists():\n",
    "    print(f\"Downloading {ds_name} data from the CTC website\")\n",
    "    # Downloading data\n",
    "    with DownloadProgressBar(unit='B', unit_scale=True,\n",
    "                                miniters=1, desc=url.split('/')[-1]) as t:\n",
    "        urllib.request.urlretrieve(url, base_dir / filename, reporthook=t.update_to)\n",
    "    # Unzip the data\n",
    "    # TODO add a progress bar to zip as well\n",
    "    with zipfile.ZipFile(base_dir / filename, 'r') as zip_ref:\n",
    "        zip_ref.extractall(base_dir)"
   ]
  },
  {
   "cell_type": "markdown",
   "id": "df182045-02ff-457f-8535-8b8dcdb55ebd",
   "metadata": {},
   "source": [
    "Next we will load the dataset into a set of detections and visualize it in napari. "
   ]
  },
  {
   "cell_type": "code",
   "execution_count": 14,
   "id": "2cefb889-4f3a-4e55-9359-6a716fccfde2",
   "metadata": {
    "tags": []
   },
   "outputs": [],
   "source": [
    "# TODO this should go to some core repo\n",
    "from shared import format_ctc_data, load_tiffs"
   ]
  },
  {
   "cell_type": "code",
   "execution_count": 15,
   "id": "5a6351c5-c795-4c6c-981a-bcf8a389b2ea",
   "metadata": {
    "tags": []
   },
   "outputs": [],
   "source": [
    "data_dir = Path(\"data/Fluo-N3DH-CHO\")\n",
    "seg_dir = data_dir / \"01_GT/TRA\"\n",
    "# Load the raw and segmentations\n",
    "images = load_tiffs(data_dir / \"01\")\n",
    "masks = load_tiffs(str(seg_dir))"
   ]
  },
  {
   "cell_type": "code",
   "execution_count": 16,
   "id": "465d93d3-125c-4dfd-aea6-522961555eb0",
   "metadata": {
    "tags": []
   },
   "outputs": [],
   "source": [
    "# Get graph and detections\n",
    "gt_graph, detections  = format_ctc_data(masks, track_path=seg_dir / \"man_track.txt\")"
   ]
  },
  {
   "cell_type": "markdown",
   "id": "4a22fbeb-6a5f-425d-bc6a-2e98fc0b91b8",
   "metadata": {},
   "source": [
    "- [ ] TODO turn a graph into a track layer"
   ]
  },
  {
   "cell_type": "code",
   "execution_count": 17,
   "id": "d859f142-9349-4ef8-97c1-4ad35ed9983d",
   "metadata": {
    "tags": []
   },
   "outputs": [],
   "source": [
    "import numpy as np\n",
    "\n",
    "def to_detections(graph, id_name=\"track_id\"):\n",
    "    \"\"\"\n",
    "    Turn a graph into a track layer.\n",
    "    \"\"\"\n",
    "    view_graph = graph.copy()\n",
    "    # Get detections from nodes\n",
    "    nodes = [{\"index\": k, **v} for k,v in dict(view_graph.nodes(data=True)).items()]\n",
    "    detections = pd.DataFrame(nodes).set_index(\"index\")\n",
    "    # Get Division points\n",
    "    # Since the id of the tracks is going to be specified later, we just keep the resulting edges in a list\n",
    "    divisions = [id for id, degree in view_graph.out_degree() if degree > 1]\n",
    "    division_edges = [\n",
    "            (div, k)\n",
    "            for div in divisions\n",
    "            for k in view_graph[div]\n",
    "    ]\n",
    "    # Remove division edges from solution graph\n",
    "    view_graph.remove_edges_from(division_edges)\n",
    "    # This allows us to get all tracks as connected components\n",
    "    components = [c for c in nx.weakly_connected_components(view_graph)]\n",
    "    # We assign an id to each of the connected components\n",
    "    detections[id_name] = -1 \n",
    "    for i, c in enumerate(components):\n",
    "        detections[id_name][list(components[i])] = i\n",
    "    # Now that we have track ids, we can create a division graph for napari's track layer\n",
    "    division_graph = {}\n",
    "    for parent, child in division_edges:\n",
    "        parent_id = detections.loc[parent][id_name]\n",
    "        child_id = detections.loc[child][id_name]\n",
    "        division_graph[int(child_id)] = [int(parent_id)]\n",
    "    return detections, division_graph"
   ]
  },
  {
   "cell_type": "code",
   "execution_count": 18,
   "id": "684e0331-a190-4f09-8414-2f9b5f9bb81f",
   "metadata": {
    "tags": []
   },
   "outputs": [
    {
     "name": "stderr",
     "output_type": "stream",
     "text": [
      "/var/folders/dr/zx61t7mx0xl1y9gsljydj6hh0000gq/T/ipykernel_20264/4141931117.py:26: SettingWithCopyWarning: \n",
      "A value is trying to be set on a copy of a slice from a DataFrame\n",
      "\n",
      "See the caveats in the documentation: https://pandas.pydata.org/pandas-docs/stable/user_guide/indexing.html#returning-a-view-versus-a-copy\n",
      "  detections[id_name][list(components[i])] = i\n",
      "/var/folders/dr/zx61t7mx0xl1y9gsljydj6hh0000gq/T/ipykernel_20264/4141931117.py:26: SettingWithCopyWarning: \n",
      "A value is trying to be set on a copy of a slice from a DataFrame\n",
      "\n",
      "See the caveats in the documentation: https://pandas.pydata.org/pandas-docs/stable/user_guide/indexing.html#returning-a-view-versus-a-copy\n",
      "  detections[id_name][list(components[i])] = i\n",
      "/var/folders/dr/zx61t7mx0xl1y9gsljydj6hh0000gq/T/ipykernel_20264/4141931117.py:26: SettingWithCopyWarning: \n",
      "A value is trying to be set on a copy of a slice from a DataFrame\n",
      "\n",
      "See the caveats in the documentation: https://pandas.pydata.org/pandas-docs/stable/user_guide/indexing.html#returning-a-view-versus-a-copy\n",
      "  detections[id_name][list(components[i])] = i\n",
      "/var/folders/dr/zx61t7mx0xl1y9gsljydj6hh0000gq/T/ipykernel_20264/4141931117.py:26: SettingWithCopyWarning: \n",
      "A value is trying to be set on a copy of a slice from a DataFrame\n",
      "\n",
      "See the caveats in the documentation: https://pandas.pydata.org/pandas-docs/stable/user_guide/indexing.html#returning-a-view-versus-a-copy\n",
      "  detections[id_name][list(components[i])] = i\n",
      "/var/folders/dr/zx61t7mx0xl1y9gsljydj6hh0000gq/T/ipykernel_20264/4141931117.py:26: SettingWithCopyWarning: \n",
      "A value is trying to be set on a copy of a slice from a DataFrame\n",
      "\n",
      "See the caveats in the documentation: https://pandas.pydata.org/pandas-docs/stable/user_guide/indexing.html#returning-a-view-versus-a-copy\n",
      "  detections[id_name][list(components[i])] = i\n",
      "/var/folders/dr/zx61t7mx0xl1y9gsljydj6hh0000gq/T/ipykernel_20264/4141931117.py:26: SettingWithCopyWarning: \n",
      "A value is trying to be set on a copy of a slice from a DataFrame\n",
      "\n",
      "See the caveats in the documentation: https://pandas.pydata.org/pandas-docs/stable/user_guide/indexing.html#returning-a-view-versus-a-copy\n",
      "  detections[id_name][list(components[i])] = i\n",
      "/var/folders/dr/zx61t7mx0xl1y9gsljydj6hh0000gq/T/ipykernel_20264/4141931117.py:26: SettingWithCopyWarning: \n",
      "A value is trying to be set on a copy of a slice from a DataFrame\n",
      "\n",
      "See the caveats in the documentation: https://pandas.pydata.org/pandas-docs/stable/user_guide/indexing.html#returning-a-view-versus-a-copy\n",
      "  detections[id_name][list(components[i])] = i\n",
      "/var/folders/dr/zx61t7mx0xl1y9gsljydj6hh0000gq/T/ipykernel_20264/4141931117.py:26: SettingWithCopyWarning: \n",
      "A value is trying to be set on a copy of a slice from a DataFrame\n",
      "\n",
      "See the caveats in the documentation: https://pandas.pydata.org/pandas-docs/stable/user_guide/indexing.html#returning-a-view-versus-a-copy\n",
      "  detections[id_name][list(components[i])] = i\n",
      "/var/folders/dr/zx61t7mx0xl1y9gsljydj6hh0000gq/T/ipykernel_20264/4141931117.py:26: SettingWithCopyWarning: \n",
      "A value is trying to be set on a copy of a slice from a DataFrame\n",
      "\n",
      "See the caveats in the documentation: https://pandas.pydata.org/pandas-docs/stable/user_guide/indexing.html#returning-a-view-versus-a-copy\n",
      "  detections[id_name][list(components[i])] = i\n",
      "/var/folders/dr/zx61t7mx0xl1y9gsljydj6hh0000gq/T/ipykernel_20264/4141931117.py:26: SettingWithCopyWarning: \n",
      "A value is trying to be set on a copy of a slice from a DataFrame\n",
      "\n",
      "See the caveats in the documentation: https://pandas.pydata.org/pandas-docs/stable/user_guide/indexing.html#returning-a-view-versus-a-copy\n",
      "  detections[id_name][list(components[i])] = i\n",
      "/var/folders/dr/zx61t7mx0xl1y9gsljydj6hh0000gq/T/ipykernel_20264/4141931117.py:26: SettingWithCopyWarning: \n",
      "A value is trying to be set on a copy of a slice from a DataFrame\n",
      "\n",
      "See the caveats in the documentation: https://pandas.pydata.org/pandas-docs/stable/user_guide/indexing.html#returning-a-view-versus-a-copy\n",
      "  detections[id_name][list(components[i])] = i\n",
      "/var/folders/dr/zx61t7mx0xl1y9gsljydj6hh0000gq/T/ipykernel_20264/4141931117.py:26: SettingWithCopyWarning: \n",
      "A value is trying to be set on a copy of a slice from a DataFrame\n",
      "\n",
      "See the caveats in the documentation: https://pandas.pydata.org/pandas-docs/stable/user_guide/indexing.html#returning-a-view-versus-a-copy\n",
      "  detections[id_name][list(components[i])] = i\n",
      "/var/folders/dr/zx61t7mx0xl1y9gsljydj6hh0000gq/T/ipykernel_20264/4141931117.py:26: SettingWithCopyWarning: \n",
      "A value is trying to be set on a copy of a slice from a DataFrame\n",
      "\n",
      "See the caveats in the documentation: https://pandas.pydata.org/pandas-docs/stable/user_guide/indexing.html#returning-a-view-versus-a-copy\n",
      "  detections[id_name][list(components[i])] = i\n",
      "/var/folders/dr/zx61t7mx0xl1y9gsljydj6hh0000gq/T/ipykernel_20264/4141931117.py:26: SettingWithCopyWarning: \n",
      "A value is trying to be set on a copy of a slice from a DataFrame\n",
      "\n",
      "See the caveats in the documentation: https://pandas.pydata.org/pandas-docs/stable/user_guide/indexing.html#returning-a-view-versus-a-copy\n",
      "  detections[id_name][list(components[i])] = i\n",
      "/var/folders/dr/zx61t7mx0xl1y9gsljydj6hh0000gq/T/ipykernel_20264/4141931117.py:26: SettingWithCopyWarning: \n",
      "A value is trying to be set on a copy of a slice from a DataFrame\n",
      "\n",
      "See the caveats in the documentation: https://pandas.pydata.org/pandas-docs/stable/user_guide/indexing.html#returning-a-view-versus-a-copy\n",
      "  detections[id_name][list(components[i])] = i\n",
      "/var/folders/dr/zx61t7mx0xl1y9gsljydj6hh0000gq/T/ipykernel_20264/4141931117.py:26: SettingWithCopyWarning: \n",
      "A value is trying to be set on a copy of a slice from a DataFrame\n",
      "\n",
      "See the caveats in the documentation: https://pandas.pydata.org/pandas-docs/stable/user_guide/indexing.html#returning-a-view-versus-a-copy\n",
      "  detections[id_name][list(components[i])] = i\n",
      "/var/folders/dr/zx61t7mx0xl1y9gsljydj6hh0000gq/T/ipykernel_20264/4141931117.py:26: SettingWithCopyWarning: \n",
      "A value is trying to be set on a copy of a slice from a DataFrame\n",
      "\n",
      "See the caveats in the documentation: https://pandas.pydata.org/pandas-docs/stable/user_guide/indexing.html#returning-a-view-versus-a-copy\n",
      "  detections[id_name][list(components[i])] = i\n",
      "/var/folders/dr/zx61t7mx0xl1y9gsljydj6hh0000gq/T/ipykernel_20264/4141931117.py:26: SettingWithCopyWarning: \n",
      "A value is trying to be set on a copy of a slice from a DataFrame\n",
      "\n",
      "See the caveats in the documentation: https://pandas.pydata.org/pandas-docs/stable/user_guide/indexing.html#returning-a-view-versus-a-copy\n",
      "  detections[id_name][list(components[i])] = i\n",
      "/var/folders/dr/zx61t7mx0xl1y9gsljydj6hh0000gq/T/ipykernel_20264/4141931117.py:26: SettingWithCopyWarning: \n",
      "A value is trying to be set on a copy of a slice from a DataFrame\n",
      "\n",
      "See the caveats in the documentation: https://pandas.pydata.org/pandas-docs/stable/user_guide/indexing.html#returning-a-view-versus-a-copy\n",
      "  detections[id_name][list(components[i])] = i\n",
      "/var/folders/dr/zx61t7mx0xl1y9gsljydj6hh0000gq/T/ipykernel_20264/4141931117.py:26: SettingWithCopyWarning: \n",
      "A value is trying to be set on a copy of a slice from a DataFrame\n",
      "\n",
      "See the caveats in the documentation: https://pandas.pydata.org/pandas-docs/stable/user_guide/indexing.html#returning-a-view-versus-a-copy\n",
      "  detections[id_name][list(components[i])] = i\n",
      "/var/folders/dr/zx61t7mx0xl1y9gsljydj6hh0000gq/T/ipykernel_20264/4141931117.py:26: SettingWithCopyWarning: \n",
      "A value is trying to be set on a copy of a slice from a DataFrame\n",
      "\n",
      "See the caveats in the documentation: https://pandas.pydata.org/pandas-docs/stable/user_guide/indexing.html#returning-a-view-versus-a-copy\n",
      "  detections[id_name][list(components[i])] = i\n",
      "/var/folders/dr/zx61t7mx0xl1y9gsljydj6hh0000gq/T/ipykernel_20264/4141931117.py:26: SettingWithCopyWarning: \n",
      "A value is trying to be set on a copy of a slice from a DataFrame\n",
      "\n",
      "See the caveats in the documentation: https://pandas.pydata.org/pandas-docs/stable/user_guide/indexing.html#returning-a-view-versus-a-copy\n",
      "  detections[id_name][list(components[i])] = i\n",
      "/var/folders/dr/zx61t7mx0xl1y9gsljydj6hh0000gq/T/ipykernel_20264/4141931117.py:26: SettingWithCopyWarning: \n",
      "A value is trying to be set on a copy of a slice from a DataFrame\n",
      "\n",
      "See the caveats in the documentation: https://pandas.pydata.org/pandas-docs/stable/user_guide/indexing.html#returning-a-view-versus-a-copy\n",
      "  detections[id_name][list(components[i])] = i\n",
      "/var/folders/dr/zx61t7mx0xl1y9gsljydj6hh0000gq/T/ipykernel_20264/4141931117.py:26: SettingWithCopyWarning: \n",
      "A value is trying to be set on a copy of a slice from a DataFrame\n",
      "\n",
      "See the caveats in the documentation: https://pandas.pydata.org/pandas-docs/stable/user_guide/indexing.html#returning-a-view-versus-a-copy\n",
      "  detections[id_name][list(components[i])] = i\n",
      "/var/folders/dr/zx61t7mx0xl1y9gsljydj6hh0000gq/T/ipykernel_20264/4141931117.py:26: SettingWithCopyWarning: \n",
      "A value is trying to be set on a copy of a slice from a DataFrame\n",
      "\n",
      "See the caveats in the documentation: https://pandas.pydata.org/pandas-docs/stable/user_guide/indexing.html#returning-a-view-versus-a-copy\n",
      "  detections[id_name][list(components[i])] = i\n"
     ]
    }
   ],
   "source": [
    "gt_detections, gt_division_graph = to_detections(gt_graph);\n"
   ]
  },
  {
   "cell_type": "code",
   "execution_count": 19,
   "id": "2f569f97",
   "metadata": {
    "tags": []
   },
   "outputs": [
    {
     "data": {
      "text/plain": [
       "<Tracks layer 'Tracks' at 0x2b6c3c510>"
      ]
     },
     "execution_count": 19,
     "metadata": {},
     "output_type": "execute_result"
    }
   ],
   "source": [
    "id_name = \"track_id\"\n",
    "frame_key=\"t\"\n",
    "location_keys=[\"x\", \"y\", \"z\"]\n",
    "viewer = napari.Viewer()\n",
    "viewer.add_image(images, name=\"Raw\")\n",
    "viewer.add_labels(masks, name=\"Segmentations\")\n",
    "viewer.add_tracks(gt_detections[[id_name, frame_key, *location_keys]].to_numpy(), graph=gt_division_graph, name=\"Tracks\")"
   ]
  },
  {
   "cell_type": "markdown",
   "id": "c87949b7-35e3-4416-ac54-9d435960c805",
   "metadata": {},
   "source": [
    "## PART 2: Tracking with motile\n",
    "\n",
    "Now that we have some data, let's try tracking it with motile. \n",
    "\n",
    "To begin with, we need to create a candidate graph. We will use the ground truth segmentations that we loaded earlier as detections: these will be the nodes in our graph. \n",
    "Between all nodes from timepoint `t` and nodes from timepoint `t + 1`, we add an edge. \n",
    "\n",
    "Motile costs are built from attributes (or `features`) given to the nodes and edges of the candidate graph. \n",
    "To create these, we add a positive `score` attribute to the nodes to encourage selecting them.\n",
    "For the edges, we assume that we want nodes that are closer together (in space) to be more likely to be connected. We therefore weight the edges by the euclidian distance between their centroids.\n",
    "\n",
    "\n",
    "- [ ] TODO : add the Ground truth on the nodes, and create a \"GT\" element for the edges such that struct SVM can use it\n",
    "    - Should we use the full ground truth as an input to StructSVM?"
   ]
  },
  {
   "cell_type": "code",
   "execution_count": 20,
   "id": "e64c0571",
   "metadata": {
    "tags": []
   },
   "outputs": [],
   "source": [
    "# Generate a pseudo-score for the nodes\n",
    "scored_detections = detections.copy()\n",
    "scored_detections[\"score\"] = 1\n",
    "scored_detections.rename(columns={\"segmentation_id\" : \"gt_track_id\"}, inplace=True)\n",
    "# Create nodes frmo this information\n",
    "cells = scored_detections.reset_index().rename(columns={\"index\": \"id\"})[[\"id\", frame_key, *location_keys, \"score\", \"gt_track_id\"]].to_dict(\"records\") "
   ]
  },
  {
   "cell_type": "code",
   "execution_count": 21,
   "id": "cd6f1f38",
   "metadata": {
    "tags": []
   },
   "outputs": [],
   "source": [
    "# Generate the edges\n",
    "edges = [\n",
    "    # edge for every pair in t and t+1\n",
    "    # with score the euclidian distance between edges\n",
    "]\n",
    "start_t = detections[frame_key].min()\n",
    "end_t = detections[frame_key].max()\n",
    "\n",
    "for t in range(start_t, end_t):\n",
    "    prev_cells = detections[detections[frame_key] == t]\n",
    "    next_cells = detections[detections[frame_key] == t + 1]\n",
    "    # This gives pairwise distances as an array where the first index is time t and the second is time t + 1\n",
    "    distances = cdist(prev_cells[location_keys], next_cells[location_keys])\n",
    "    # TODO add gt_id=1 if node1 and node2 have same gt_track_id, else 0\n",
    "    prev = range(len(prev_cells))\n",
    "    next = range(len(next_cells))\n",
    "    for i, j in itertools.product(prev, next):\n",
    "        edges.append({\"source\": prev_cells.index[i], \"target\": next_cells.index[j], \"distance\": distances[i, j]})"
   ]
  },
  {
   "cell_type": "markdown",
   "id": "b42a1559-6d3f-4465-a42d-adc28326ff0d",
   "metadata": {},
   "source": [
    "Finally, we create a motile TrackGraph from these nodes and edges."
   ]
  },
  {
   "cell_type": "code",
   "execution_count": 22,
   "id": "ad5ae537-e21d-47f2-b3fc-22997c657ba8",
   "metadata": {
    "tags": []
   },
   "outputs": [],
   "source": [
    "import networkx as nx"
   ]
  },
  {
   "cell_type": "code",
   "execution_count": 23,
   "id": "7a923020",
   "metadata": {
    "lines_to_next_cell": 0,
    "tags": []
   },
   "outputs": [],
   "source": [
    "# Create a motile candidate graph from detections\n",
    "track_graph = nx.DiGraph()\n",
    "track_graph.add_nodes_from([\n",
    "    (cell['id'], cell)\n",
    "    for cell in cells\n",
    "])\n",
    "track_graph.add_edges_from([\n",
    "    (edge['source'], edge['target'], edge)\n",
    "    for edge in edges\n",
    "])"
   ]
  },
  {
   "cell_type": "code",
   "execution_count": 24,
   "id": "5c730677-ffd6-43d7-85f7-43a6eefb6230",
   "metadata": {
    "tags": []
   },
   "outputs": [],
   "source": [
    "for u,v in track_graph.edges:\n",
    "    node_u = track_graph.nodes[u]\n",
    "    node_v = track_graph.nodes[v]\n",
    "    selected = 1 if node_u[\"gt_track_id\"] == node_v[\"gt_track_id\"] else 0\n",
    "    track_graph.edges[(u, v)][\"gt\"] = selected"
   ]
  },
  {
   "cell_type": "markdown",
   "id": "e9d0678b-8fe9-4171-8853-69329ea464ed",
   "metadata": {},
   "source": [
    "## Solve!\n",
    "\n",
    "- [ ] TODO blah blah blah"
   ]
  },
  {
   "cell_type": "code",
   "execution_count": 25,
   "id": "5bc0421f-18a9-41a4-83fa-eb5a4b6545a2",
   "metadata": {
    "tags": []
   },
   "outputs": [],
   "source": [
    "candidate_graph = motile.TrackGraph(track_graph)"
   ]
  },
  {
   "cell_type": "code",
   "execution_count": 26,
   "id": "aae82ff6",
   "metadata": {
    "lines_to_next_cell": 0,
    "tags": []
   },
   "outputs": [],
   "source": [
    "solver = motile.Solver(candidate_graph)\n",
    "# Add costs for nodes and edges\n",
    "# Constant node selection cost, to ensure we choose cells\n",
    "solver.add_costs(\n",
    "    NodeSelection(\n",
    "        weight=-100,\n",
    "        attribute=\"score\",\n",
    "    )\n",
    ")\n",
    "# Edge cost proportional to the distance between detections\n",
    "solver.add_costs(\n",
    "    EdgeSelection(\n",
    "        weight=1.0,\n",
    "        attribute='distance'))\n",
    "\n",
    "# Add a cost for appearance\n",
    "# In general, we prefer divisions over appearances!\n",
    "solver.add_costs(Appear(constant=10000.0))\n",
    "\n",
    "# Add constraints for divisions\n",
    "solver.add_constraints(MaxParents(1))\n",
    "solver.add_constraints(MaxChildren(2))"
   ]
  },
  {
   "cell_type": "markdown",
   "id": "0a929158-2c16-4ca9-88d1-5f09e6792c0e",
   "metadata": {
    "title": "TODO add StructSVM :)"
   },
   "source": [
    "- [ ] Add Struct SVM!"
   ]
  },
  {
   "cell_type": "code",
   "execution_count": 27,
   "id": "942d5d13-e0ab-45b0-9fa0-d8cc033d0acd",
   "metadata": {
    "tags": []
   },
   "outputs": [],
   "source": [
    "# TODO uncomment if you have much time and many licences\n",
    "# solver.fit_weights(gt_attribute='gt')"
   ]
  },
  {
   "cell_type": "code",
   "execution_count": 28,
   "id": "eec43ddd",
   "metadata": {
    "tags": []
   },
   "outputs": [
    {
     "name": "stdout",
     "output_type": "stream",
     "text": [
      "Could not create Gurobi backend: Gurobi error in ./ilpy/impl/solvers/GurobiBackend.cpp:22: PIP license can only be used from gurobipy interface\n",
      "presolving:\n",
      "(round 1, fast)       20 del vars, 44 del conss, 0 add conss, 10 chg bounds, 995 chg sides, 995 chg coeffs, 0 upgd conss, 0 impls, 10087 clqs\n",
      "   (0.1s) running MILP presolver\n",
      "   (0.1s) MILP presolver found nothing\n",
      "(round 2, exhaustive) 20 del vars, 44 del conss, 0 add conss, 10 chg bounds, 995 chg sides, 995 chg coeffs, 11773 upgd conss, 0 impls, 10087 clqs\n",
      "(round 3, medium)     20 del vars, 9036 del conss, 17984 add conss, 10 chg bounds, 995 chg sides, 995 chg coeffs, 11773 upgd conss, 0 impls, 28071 clqs\n",
      "(round 4, exhaustive) 20 del vars, 9036 del conss, 17984 add conss, 10 chg bounds, 995 chg sides, 1876 chg coeffs, 12668 upgd conss, 0 impls, 28071 clqs\n",
      "(round 5, medium)     20 del vars, 9931 del conss, 18879 add conss, 10 chg bounds, 995 chg sides, 1876 chg coeffs, 12668 upgd conss, 0 impls, 36746 clqs\n",
      "(round 6, exhaustive) 20 del vars, 11721 del conss, 19774 add conss, 10 chg bounds, 995 chg sides, 1876 chg coeffs, 12668 upgd conss, 0 impls, 36746 clqs\n",
      "(round 7, medium)     915 del vars, 11721 del conss, 19774 add conss, 10 chg bounds, 1890 chg sides, 2771 chg coeffs, 12668 upgd conss, 0 impls, 19873 clqs\n",
      "   (0.3s) probing: 51/9987 (0.5%) - 0 fixings, 0 aggregations, 0 implications, 0 bound changes\n",
      "   (0.3s) probing aborted: 50/50 successive totally useless probings\n",
      "   (0.3s) symmetry computation started: requiring (bin +, int -, cont +), (fixed: bin -, int +, cont -)\n",
      "   (0.3s) no symmetry present\n",
      "presolving (8 rounds: 8 fast, 7 medium, 4 exhaustive):\n",
      " 915 deleted vars, 11721 deleted constraints, 19774 added constraints, 10 tightened bounds, 0 added holes, 1890 changed sides, 2771 changed coefficients\n",
      " 0 implications, 19873 cliques\n",
      "presolved problem has 9987 variables (9987 bin, 0 int, 0 impl, 0 cont) and 20765 constraints\n",
      "    891 constraints of type <knapsack>\n",
      "  19874 constraints of type <setppc>\n",
      "Presolving Time: 0.31\n",
      "\n",
      " time | node  | left  |LP iter|LP it/n|mem/heur|mdpt |vars |cons |rows |cuts |sepa|confs|strbr|  dualbound   | primalbound  |  gap   | compl. \n",
      "t 0.4s|     1 |     0 |     0 |     - | trivial|   0 |9987 |  20k|   0 |   0 |  0 |   0 |   0 |-8.891063e+07 | 9.900000e+04 |    Inf | unknown\n",
      "p 0.4s|     1 |     0 |     0 |     - |  clique|   0 |9987 |  20k|  20k|   0 |  0 |   0 |   0 |-8.891063e+07 | 1.557952e+04 |    Inf | unknown\n",
      "* 2.3s|     1 |     0 |  9437 |     - |    LP  |   0 |9987 |  20k|  20k|   0 |  0 |   0 |   0 | 1.547622e+04 | 1.547622e+04 |   0.00%| unknown\n",
      "  2.3s|     1 |     0 |  9437 |     - |   135M |   0 |9987 |  20k|  20k|   0 |  0 |   0 |   0 | 1.547622e+04 | 1.547622e+04 |   0.00%| unknown\n",
      "\n",
      "SCIP Status        : problem is solved [optimal solution found]\n",
      "Solving Time (sec) : 2.26\n",
      "Solving Nodes      : 1\n",
      "Primal Bound       : +1.54762195574045e+04 (4 solutions)\n",
      "Dual Bound         : +1.54762195574045e+04\n",
      "Gap                : 0.00 %\n"
     ]
    }
   ],
   "source": [
    "# Solve\n",
    "solution = solver.solve()"
   ]
  },
  {
   "cell_type": "markdown",
   "id": "ee6db9ca-27d0-48ed-a364-c8f9e5b3ffb6",
   "metadata": {},
   "source": [
    "## PART 4: Evaluate our solution\n",
    "\n",
    "- [ ] TODO run CTC metrics on our solution"
   ]
  },
  {
   "cell_type": "markdown",
   "id": "8b86353c-24f2-4ea3-bb26-201f192f4874",
   "metadata": {},
   "source": [
    "First, we need to create a solution graph. We do this by getting a list of all of the nodes and all of the edges that were selected, then reconstructing them into a `TrackGraph`."
   ]
  },
  {
   "cell_type": "code",
   "execution_count": 29,
   "id": "b19947c1",
   "metadata": {
    "lines_to_next_cell": 0,
    "tags": []
   },
   "outputs": [],
   "source": [
    "node_selected = solver.get_variables(NodeSelected)\n",
    "edge_selected = solver.get_variables(EdgeSelected)\n",
    "\n",
    "selected_nodes = []\n",
    "selected_edges = []\n",
    "for node, attributes in track_graph.nodes(data=True):\n",
    "    if solution[node_selected[node]] > 0.5:\n",
    "        selected_nodes.append((node, attributes))\n",
    "for u, v, attributes in track_graph.edges(data=True):\n",
    "    if solution[edge_selected[(u, v)]] > 0.5:\n",
    "        selected_edges.append((u, v, attributes))"
   ]
  },
  {
   "cell_type": "code",
   "execution_count": 30,
   "id": "7f103f26",
   "metadata": {
    "lines_to_next_cell": 0,
    "tags": []
   },
   "outputs": [
    {
     "name": "stdout",
     "output_type": "stream",
     "text": [
      "Selected 100.0% of all candidate nodes\n",
      "Selected 9.84381874175099% of all candidate edges\n"
     ]
    }
   ],
   "source": [
    "print(f\"Selected {100*(len(selected_nodes) / len(cells))}% of all candidate nodes\")\n",
    "print(f\"Selected {100*(len(selected_edges) / len(edges))}% of all candidate edges\")"
   ]
  },
  {
   "cell_type": "code",
   "execution_count": 31,
   "id": "cdcbb54e-dca5-443e-be44-c652d885275a",
   "metadata": {
    "tags": []
   },
   "outputs": [],
   "source": [
    "solution_graph = nx.DiGraph()\n",
    "solution_graph.add_nodes_from(selected_nodes)\n",
    "solution_graph.add_edges_from(selected_edges)"
   ]
  },
  {
   "cell_type": "code",
   "execution_count": 32,
   "id": "13ff108b-a812-4a5a-b718-f353de2279ea",
   "metadata": {
    "tags": []
   },
   "outputs": [],
   "source": [
    "# TODO run matching\n",
    "# TODO etc.\n",
    "\n",
    "from traccuracy import TrackingGraph\n",
    "from traccuracy import TrackingData"
   ]
  },
  {
   "cell_type": "code",
   "execution_count": 33,
   "id": "b34f1e35-ef4e-4119-b1fc-9b8282c88a09",
   "metadata": {
    "tags": []
   },
   "outputs": [],
   "source": [
    "solution_data = TrackingData(TrackingGraph(solution_graph), segmentation=masks)\n",
    "gt_data = TrackingData(TrackingGraph(track_graph), segmentation=masks)"
   ]
  },
  {
   "cell_type": "markdown",
   "id": "87fd128c-18d2-4307-a0e4-ab1f345f25a4",
   "metadata": {},
   "source": [
    "- [ ] TODO Run evaluation :)"
   ]
  },
  {
   "cell_type": "markdown",
   "id": "ce2968ca-5614-4a67-b51b-2ffcf463cdd1",
   "metadata": {},
   "source": [
    "## PART 3: Visualizing our solutions\n",
    "\n",
    "Now that we have a solution, let's visualize it to see whether it looks sensible.\n",
    "We're going to add the solution into `napari`. "
   ]
  },
  {
   "cell_type": "markdown",
   "id": "d6b7f5c6-211a-4186-aeb9-fe80911b3f38",
   "metadata": {},
   "source": [
    "The tracks layer in `napari` requires two types of data. \n",
    "- an array of detections ordered by `cell_id`, `t`, `x`, `y`, `z`\n",
    "- a branching graph were keys are nodes, and values are lists of parent nodes. In our case there are only divisions, so the list will be of length one each time."
   ]
  },
  {
   "cell_type": "code",
   "execution_count": 34,
   "id": "0d1a83c7",
   "metadata": {},
   "outputs": [
    {
     "name": "stderr",
     "output_type": "stream",
     "text": [
      "/var/folders/dr/zx61t7mx0xl1y9gsljydj6hh0000gq/T/ipykernel_20264/4141931117.py:26: SettingWithCopyWarning: \n",
      "A value is trying to be set on a copy of a slice from a DataFrame\n",
      "\n",
      "See the caveats in the documentation: https://pandas.pydata.org/pandas-docs/stable/user_guide/indexing.html#returning-a-view-versus-a-copy\n",
      "  detections[id_name][list(components[i])] = i\n",
      "/var/folders/dr/zx61t7mx0xl1y9gsljydj6hh0000gq/T/ipykernel_20264/4141931117.py:26: SettingWithCopyWarning: \n",
      "A value is trying to be set on a copy of a slice from a DataFrame\n",
      "\n",
      "See the caveats in the documentation: https://pandas.pydata.org/pandas-docs/stable/user_guide/indexing.html#returning-a-view-versus-a-copy\n",
      "  detections[id_name][list(components[i])] = i\n",
      "/var/folders/dr/zx61t7mx0xl1y9gsljydj6hh0000gq/T/ipykernel_20264/4141931117.py:26: SettingWithCopyWarning: \n",
      "A value is trying to be set on a copy of a slice from a DataFrame\n",
      "\n",
      "See the caveats in the documentation: https://pandas.pydata.org/pandas-docs/stable/user_guide/indexing.html#returning-a-view-versus-a-copy\n",
      "  detections[id_name][list(components[i])] = i\n",
      "/var/folders/dr/zx61t7mx0xl1y9gsljydj6hh0000gq/T/ipykernel_20264/4141931117.py:26: SettingWithCopyWarning: \n",
      "A value is trying to be set on a copy of a slice from a DataFrame\n",
      "\n",
      "See the caveats in the documentation: https://pandas.pydata.org/pandas-docs/stable/user_guide/indexing.html#returning-a-view-versus-a-copy\n",
      "  detections[id_name][list(components[i])] = i\n",
      "/var/folders/dr/zx61t7mx0xl1y9gsljydj6hh0000gq/T/ipykernel_20264/4141931117.py:26: SettingWithCopyWarning: \n",
      "A value is trying to be set on a copy of a slice from a DataFrame\n",
      "\n",
      "See the caveats in the documentation: https://pandas.pydata.org/pandas-docs/stable/user_guide/indexing.html#returning-a-view-versus-a-copy\n",
      "  detections[id_name][list(components[i])] = i\n",
      "/var/folders/dr/zx61t7mx0xl1y9gsljydj6hh0000gq/T/ipykernel_20264/4141931117.py:26: SettingWithCopyWarning: \n",
      "A value is trying to be set on a copy of a slice from a DataFrame\n",
      "\n",
      "See the caveats in the documentation: https://pandas.pydata.org/pandas-docs/stable/user_guide/indexing.html#returning-a-view-versus-a-copy\n",
      "  detections[id_name][list(components[i])] = i\n",
      "/var/folders/dr/zx61t7mx0xl1y9gsljydj6hh0000gq/T/ipykernel_20264/4141931117.py:26: SettingWithCopyWarning: \n",
      "A value is trying to be set on a copy of a slice from a DataFrame\n",
      "\n",
      "See the caveats in the documentation: https://pandas.pydata.org/pandas-docs/stable/user_guide/indexing.html#returning-a-view-versus-a-copy\n",
      "  detections[id_name][list(components[i])] = i\n",
      "/var/folders/dr/zx61t7mx0xl1y9gsljydj6hh0000gq/T/ipykernel_20264/4141931117.py:26: SettingWithCopyWarning: \n",
      "A value is trying to be set on a copy of a slice from a DataFrame\n",
      "\n",
      "See the caveats in the documentation: https://pandas.pydata.org/pandas-docs/stable/user_guide/indexing.html#returning-a-view-versus-a-copy\n",
      "  detections[id_name][list(components[i])] = i\n",
      "/var/folders/dr/zx61t7mx0xl1y9gsljydj6hh0000gq/T/ipykernel_20264/4141931117.py:26: SettingWithCopyWarning: \n",
      "A value is trying to be set on a copy of a slice from a DataFrame\n",
      "\n",
      "See the caveats in the documentation: https://pandas.pydata.org/pandas-docs/stable/user_guide/indexing.html#returning-a-view-versus-a-copy\n",
      "  detections[id_name][list(components[i])] = i\n",
      "/var/folders/dr/zx61t7mx0xl1y9gsljydj6hh0000gq/T/ipykernel_20264/4141931117.py:26: SettingWithCopyWarning: \n",
      "A value is trying to be set on a copy of a slice from a DataFrame\n",
      "\n",
      "See the caveats in the documentation: https://pandas.pydata.org/pandas-docs/stable/user_guide/indexing.html#returning-a-view-versus-a-copy\n",
      "  detections[id_name][list(components[i])] = i\n",
      "/var/folders/dr/zx61t7mx0xl1y9gsljydj6hh0000gq/T/ipykernel_20264/4141931117.py:26: SettingWithCopyWarning: \n",
      "A value is trying to be set on a copy of a slice from a DataFrame\n",
      "\n",
      "See the caveats in the documentation: https://pandas.pydata.org/pandas-docs/stable/user_guide/indexing.html#returning-a-view-versus-a-copy\n",
      "  detections[id_name][list(components[i])] = i\n",
      "/var/folders/dr/zx61t7mx0xl1y9gsljydj6hh0000gq/T/ipykernel_20264/4141931117.py:26: SettingWithCopyWarning: \n",
      "A value is trying to be set on a copy of a slice from a DataFrame\n",
      "\n",
      "See the caveats in the documentation: https://pandas.pydata.org/pandas-docs/stable/user_guide/indexing.html#returning-a-view-versus-a-copy\n",
      "  detections[id_name][list(components[i])] = i\n",
      "/var/folders/dr/zx61t7mx0xl1y9gsljydj6hh0000gq/T/ipykernel_20264/4141931117.py:26: SettingWithCopyWarning: \n",
      "A value is trying to be set on a copy of a slice from a DataFrame\n",
      "\n",
      "See the caveats in the documentation: https://pandas.pydata.org/pandas-docs/stable/user_guide/indexing.html#returning-a-view-versus-a-copy\n",
      "  detections[id_name][list(components[i])] = i\n",
      "/var/folders/dr/zx61t7mx0xl1y9gsljydj6hh0000gq/T/ipykernel_20264/4141931117.py:26: SettingWithCopyWarning: \n",
      "A value is trying to be set on a copy of a slice from a DataFrame\n",
      "\n",
      "See the caveats in the documentation: https://pandas.pydata.org/pandas-docs/stable/user_guide/indexing.html#returning-a-view-versus-a-copy\n",
      "  detections[id_name][list(components[i])] = i\n",
      "/var/folders/dr/zx61t7mx0xl1y9gsljydj6hh0000gq/T/ipykernel_20264/4141931117.py:26: SettingWithCopyWarning: \n",
      "A value is trying to be set on a copy of a slice from a DataFrame\n",
      "\n",
      "See the caveats in the documentation: https://pandas.pydata.org/pandas-docs/stable/user_guide/indexing.html#returning-a-view-versus-a-copy\n",
      "  detections[id_name][list(components[i])] = i\n",
      "/var/folders/dr/zx61t7mx0xl1y9gsljydj6hh0000gq/T/ipykernel_20264/4141931117.py:26: SettingWithCopyWarning: \n",
      "A value is trying to be set on a copy of a slice from a DataFrame\n",
      "\n",
      "See the caveats in the documentation: https://pandas.pydata.org/pandas-docs/stable/user_guide/indexing.html#returning-a-view-versus-a-copy\n",
      "  detections[id_name][list(components[i])] = i\n",
      "/var/folders/dr/zx61t7mx0xl1y9gsljydj6hh0000gq/T/ipykernel_20264/4141931117.py:26: SettingWithCopyWarning: \n",
      "A value is trying to be set on a copy of a slice from a DataFrame\n",
      "\n",
      "See the caveats in the documentation: https://pandas.pydata.org/pandas-docs/stable/user_guide/indexing.html#returning-a-view-versus-a-copy\n",
      "  detections[id_name][list(components[i])] = i\n",
      "/var/folders/dr/zx61t7mx0xl1y9gsljydj6hh0000gq/T/ipykernel_20264/4141931117.py:26: SettingWithCopyWarning: \n",
      "A value is trying to be set on a copy of a slice from a DataFrame\n",
      "\n",
      "See the caveats in the documentation: https://pandas.pydata.org/pandas-docs/stable/user_guide/indexing.html#returning-a-view-versus-a-copy\n",
      "  detections[id_name][list(components[i])] = i\n",
      "/var/folders/dr/zx61t7mx0xl1y9gsljydj6hh0000gq/T/ipykernel_20264/4141931117.py:26: SettingWithCopyWarning: \n",
      "A value is trying to be set on a copy of a slice from a DataFrame\n",
      "\n",
      "See the caveats in the documentation: https://pandas.pydata.org/pandas-docs/stable/user_guide/indexing.html#returning-a-view-versus-a-copy\n",
      "  detections[id_name][list(components[i])] = i\n",
      "/var/folders/dr/zx61t7mx0xl1y9gsljydj6hh0000gq/T/ipykernel_20264/4141931117.py:26: SettingWithCopyWarning: \n",
      "A value is trying to be set on a copy of a slice from a DataFrame\n",
      "\n",
      "See the caveats in the documentation: https://pandas.pydata.org/pandas-docs/stable/user_guide/indexing.html#returning-a-view-versus-a-copy\n",
      "  detections[id_name][list(components[i])] = i\n",
      "/var/folders/dr/zx61t7mx0xl1y9gsljydj6hh0000gq/T/ipykernel_20264/4141931117.py:26: SettingWithCopyWarning: \n",
      "A value is trying to be set on a copy of a slice from a DataFrame\n",
      "\n",
      "See the caveats in the documentation: https://pandas.pydata.org/pandas-docs/stable/user_guide/indexing.html#returning-a-view-versus-a-copy\n",
      "  detections[id_name][list(components[i])] = i\n",
      "/var/folders/dr/zx61t7mx0xl1y9gsljydj6hh0000gq/T/ipykernel_20264/4141931117.py:26: SettingWithCopyWarning: \n",
      "A value is trying to be set on a copy of a slice from a DataFrame\n",
      "\n",
      "See the caveats in the documentation: https://pandas.pydata.org/pandas-docs/stable/user_guide/indexing.html#returning-a-view-versus-a-copy\n",
      "  detections[id_name][list(components[i])] = i\n",
      "/var/folders/dr/zx61t7mx0xl1y9gsljydj6hh0000gq/T/ipykernel_20264/4141931117.py:26: SettingWithCopyWarning: \n",
      "A value is trying to be set on a copy of a slice from a DataFrame\n",
      "\n",
      "See the caveats in the documentation: https://pandas.pydata.org/pandas-docs/stable/user_guide/indexing.html#returning-a-view-versus-a-copy\n",
      "  detections[id_name][list(components[i])] = i\n",
      "/var/folders/dr/zx61t7mx0xl1y9gsljydj6hh0000gq/T/ipykernel_20264/4141931117.py:26: SettingWithCopyWarning: \n",
      "A value is trying to be set on a copy of a slice from a DataFrame\n",
      "\n",
      "See the caveats in the documentation: https://pandas.pydata.org/pandas-docs/stable/user_guide/indexing.html#returning-a-view-versus-a-copy\n",
      "  detections[id_name][list(components[i])] = i\n",
      "/var/folders/dr/zx61t7mx0xl1y9gsljydj6hh0000gq/T/ipykernel_20264/4141931117.py:26: SettingWithCopyWarning: \n",
      "A value is trying to be set on a copy of a slice from a DataFrame\n",
      "\n",
      "See the caveats in the documentation: https://pandas.pydata.org/pandas-docs/stable/user_guide/indexing.html#returning-a-view-versus-a-copy\n",
      "  detections[id_name][list(components[i])] = i\n",
      "/var/folders/dr/zx61t7mx0xl1y9gsljydj6hh0000gq/T/ipykernel_20264/4141931117.py:26: SettingWithCopyWarning: \n",
      "A value is trying to be set on a copy of a slice from a DataFrame\n",
      "\n",
      "See the caveats in the documentation: https://pandas.pydata.org/pandas-docs/stable/user_guide/indexing.html#returning-a-view-versus-a-copy\n",
      "  detections[id_name][list(components[i])] = i\n",
      "/var/folders/dr/zx61t7mx0xl1y9gsljydj6hh0000gq/T/ipykernel_20264/4141931117.py:26: SettingWithCopyWarning: \n",
      "A value is trying to be set on a copy of a slice from a DataFrame\n",
      "\n",
      "See the caveats in the documentation: https://pandas.pydata.org/pandas-docs/stable/user_guide/indexing.html#returning-a-view-versus-a-copy\n",
      "  detections[id_name][list(components[i])] = i\n",
      "/var/folders/dr/zx61t7mx0xl1y9gsljydj6hh0000gq/T/ipykernel_20264/4141931117.py:26: SettingWithCopyWarning: \n",
      "A value is trying to be set on a copy of a slice from a DataFrame\n",
      "\n",
      "See the caveats in the documentation: https://pandas.pydata.org/pandas-docs/stable/user_guide/indexing.html#returning-a-view-versus-a-copy\n",
      "  detections[id_name][list(components[i])] = i\n",
      "/var/folders/dr/zx61t7mx0xl1y9gsljydj6hh0000gq/T/ipykernel_20264/4141931117.py:26: SettingWithCopyWarning: \n",
      "A value is trying to be set on a copy of a slice from a DataFrame\n",
      "\n",
      "See the caveats in the documentation: https://pandas.pydata.org/pandas-docs/stable/user_guide/indexing.html#returning-a-view-versus-a-copy\n",
      "  detections[id_name][list(components[i])] = i\n",
      "/var/folders/dr/zx61t7mx0xl1y9gsljydj6hh0000gq/T/ipykernel_20264/4141931117.py:26: SettingWithCopyWarning: \n",
      "A value is trying to be set on a copy of a slice from a DataFrame\n",
      "\n",
      "See the caveats in the documentation: https://pandas.pydata.org/pandas-docs/stable/user_guide/indexing.html#returning-a-view-versus-a-copy\n",
      "  detections[id_name][list(components[i])] = i\n",
      "/var/folders/dr/zx61t7mx0xl1y9gsljydj6hh0000gq/T/ipykernel_20264/4141931117.py:26: SettingWithCopyWarning: \n",
      "A value is trying to be set on a copy of a slice from a DataFrame\n",
      "\n",
      "See the caveats in the documentation: https://pandas.pydata.org/pandas-docs/stable/user_guide/indexing.html#returning-a-view-versus-a-copy\n",
      "  detections[id_name][list(components[i])] = i\n",
      "/var/folders/dr/zx61t7mx0xl1y9gsljydj6hh0000gq/T/ipykernel_20264/4141931117.py:26: SettingWithCopyWarning: \n",
      "A value is trying to be set on a copy of a slice from a DataFrame\n",
      "\n",
      "See the caveats in the documentation: https://pandas.pydata.org/pandas-docs/stable/user_guide/indexing.html#returning-a-view-versus-a-copy\n",
      "  detections[id_name][list(components[i])] = i\n",
      "/var/folders/dr/zx61t7mx0xl1y9gsljydj6hh0000gq/T/ipykernel_20264/4141931117.py:26: SettingWithCopyWarning: \n",
      "A value is trying to be set on a copy of a slice from a DataFrame\n",
      "\n",
      "See the caveats in the documentation: https://pandas.pydata.org/pandas-docs/stable/user_guide/indexing.html#returning-a-view-versus-a-copy\n",
      "  detections[id_name][list(components[i])] = i\n",
      "/var/folders/dr/zx61t7mx0xl1y9gsljydj6hh0000gq/T/ipykernel_20264/4141931117.py:26: SettingWithCopyWarning: \n",
      "A value is trying to be set on a copy of a slice from a DataFrame\n",
      "\n",
      "See the caveats in the documentation: https://pandas.pydata.org/pandas-docs/stable/user_guide/indexing.html#returning-a-view-versus-a-copy\n",
      "  detections[id_name][list(components[i])] = i\n",
      "/var/folders/dr/zx61t7mx0xl1y9gsljydj6hh0000gq/T/ipykernel_20264/4141931117.py:26: SettingWithCopyWarning: \n",
      "A value is trying to be set on a copy of a slice from a DataFrame\n",
      "\n",
      "See the caveats in the documentation: https://pandas.pydata.org/pandas-docs/stable/user_guide/indexing.html#returning-a-view-versus-a-copy\n",
      "  detections[id_name][list(components[i])] = i\n",
      "/var/folders/dr/zx61t7mx0xl1y9gsljydj6hh0000gq/T/ipykernel_20264/4141931117.py:26: SettingWithCopyWarning: \n",
      "A value is trying to be set on a copy of a slice from a DataFrame\n",
      "\n",
      "See the caveats in the documentation: https://pandas.pydata.org/pandas-docs/stable/user_guide/indexing.html#returning-a-view-versus-a-copy\n",
      "  detections[id_name][list(components[i])] = i\n",
      "/var/folders/dr/zx61t7mx0xl1y9gsljydj6hh0000gq/T/ipykernel_20264/4141931117.py:26: SettingWithCopyWarning: \n",
      "A value is trying to be set on a copy of a slice from a DataFrame\n",
      "\n",
      "See the caveats in the documentation: https://pandas.pydata.org/pandas-docs/stable/user_guide/indexing.html#returning-a-view-versus-a-copy\n",
      "  detections[id_name][list(components[i])] = i\n",
      "/var/folders/dr/zx61t7mx0xl1y9gsljydj6hh0000gq/T/ipykernel_20264/4141931117.py:26: SettingWithCopyWarning: \n",
      "A value is trying to be set on a copy of a slice from a DataFrame\n",
      "\n",
      "See the caveats in the documentation: https://pandas.pydata.org/pandas-docs/stable/user_guide/indexing.html#returning-a-view-versus-a-copy\n",
      "  detections[id_name][list(components[i])] = i\n",
      "/var/folders/dr/zx61t7mx0xl1y9gsljydj6hh0000gq/T/ipykernel_20264/4141931117.py:26: SettingWithCopyWarning: \n",
      "A value is trying to be set on a copy of a slice from a DataFrame\n",
      "\n",
      "See the caveats in the documentation: https://pandas.pydata.org/pandas-docs/stable/user_guide/indexing.html#returning-a-view-versus-a-copy\n",
      "  detections[id_name][list(components[i])] = i\n",
      "/var/folders/dr/zx61t7mx0xl1y9gsljydj6hh0000gq/T/ipykernel_20264/4141931117.py:26: SettingWithCopyWarning: \n",
      "A value is trying to be set on a copy of a slice from a DataFrame\n",
      "\n",
      "See the caveats in the documentation: https://pandas.pydata.org/pandas-docs/stable/user_guide/indexing.html#returning-a-view-versus-a-copy\n",
      "  detections[id_name][list(components[i])] = i\n",
      "/var/folders/dr/zx61t7mx0xl1y9gsljydj6hh0000gq/T/ipykernel_20264/4141931117.py:26: SettingWithCopyWarning: \n",
      "A value is trying to be set on a copy of a slice from a DataFrame\n",
      "\n",
      "See the caveats in the documentation: https://pandas.pydata.org/pandas-docs/stable/user_guide/indexing.html#returning-a-view-versus-a-copy\n",
      "  detections[id_name][list(components[i])] = i\n",
      "/var/folders/dr/zx61t7mx0xl1y9gsljydj6hh0000gq/T/ipykernel_20264/4141931117.py:26: SettingWithCopyWarning: \n",
      "A value is trying to be set on a copy of a slice from a DataFrame\n",
      "\n",
      "See the caveats in the documentation: https://pandas.pydata.org/pandas-docs/stable/user_guide/indexing.html#returning-a-view-versus-a-copy\n",
      "  detections[id_name][list(components[i])] = i\n",
      "/var/folders/dr/zx61t7mx0xl1y9gsljydj6hh0000gq/T/ipykernel_20264/4141931117.py:26: SettingWithCopyWarning: \n",
      "A value is trying to be set on a copy of a slice from a DataFrame\n",
      "\n",
      "See the caveats in the documentation: https://pandas.pydata.org/pandas-docs/stable/user_guide/indexing.html#returning-a-view-versus-a-copy\n",
      "  detections[id_name][list(components[i])] = i\n",
      "/var/folders/dr/zx61t7mx0xl1y9gsljydj6hh0000gq/T/ipykernel_20264/4141931117.py:26: SettingWithCopyWarning: \n",
      "A value is trying to be set on a copy of a slice from a DataFrame\n",
      "\n",
      "See the caveats in the documentation: https://pandas.pydata.org/pandas-docs/stable/user_guide/indexing.html#returning-a-view-versus-a-copy\n",
      "  detections[id_name][list(components[i])] = i\n"
     ]
    },
    {
     "data": {
      "text/plain": [
       "<Tracks layer 'Solution' at 0x2b7ee6550>"
      ]
     },
     "execution_count": 34,
     "metadata": {},
     "output_type": "execute_result"
    }
   ],
   "source": [
    "solution_detections, solution_division_graph = to_detections(solution_graph)\n",
    "viewer.add_tracks(solution_detections[[id_name, frame_key, *location_keys]].to_numpy(), graph=solution_division_graph, name=\"Solution\")"
   ]
  },
  {
   "cell_type": "markdown",
   "id": "db71ed85-d2a9-4bd7-9ab1-2b4450cfc93a",
   "metadata": {},
   "source": [
    "## PART 5: Conveniently save everything\n",
    "\n",
    "- [ ] TODO save the images, candidate graph, ground truth graph, and solution graph into our new data format :)"
   ]
  }
 ],
 "metadata": {
  "jupytext": {
   "cell_metadata_filter": "title,-all",
   "main_language": "python",
   "notebook_metadata_filter": "-all"
  },
  "kernelspec": {
   "display_name": "trackathon",
   "language": "python",
   "name": "python3"
  },
  "language_info": {
   "codemirror_mode": {
    "name": "ipython",
    "version": 3
   },
   "file_extension": ".py",
   "mimetype": "text/x-python",
   "name": "python",
   "nbconvert_exporter": "python",
   "pygments_lexer": "ipython3",
   "version": "3.11.0"
  },
  "vscode": {
   "interpreter": {
    "hash": "15f4d1aece7412c365cd0999cd22193677ad9653ec42ba64c2b34bd03cb3bf62"
   }
  }
 },
 "nbformat": 4,
 "nbformat_minor": 5
}
